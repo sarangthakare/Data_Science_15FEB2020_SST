{
 "cells": [
  {
   "cell_type": "code",
   "execution_count": null,
   "metadata": {},
   "outputs": [],
   "source": [
    "####################################################\n",
    "\n",
    "# Assignment of Hypothesis Testing\n",
    "# Assignment problem on Customer Order\n",
    "\n",
    "## @author: Sarang Thakare\n",
    "\n",
    "###################################################\n",
    "\n",
    "# Sales of products in four different regions is tabulated for males and females. \n",
    "# Find if male-female buyer rations are similar across regions.\n",
    "\n",
    "###################################################"
   ]
  },
  {
   "cell_type": "code",
   "execution_count": 17,
   "metadata": {
    "scrolled": true
   },
   "outputs": [
    {
     "name": "stdout",
     "output_type": "stream",
     "text": [
      "Chi Square Value is: 1.595945538661058\n",
      "p-value is: 0.6603094907091882\n"
     ]
    },
    {
     "data": {
      "text/plain": [
       "3"
      ]
     },
     "execution_count": 17,
     "metadata": {},
     "output_type": "execute_result"
    }
   ],
   "source": [
    "# Import packages and libraries\n",
    "\n",
    "import numpy as np\n",
    "import matplotlib.pyplot as plt\n",
    "import pandas as pd\n",
    "import scipy\n",
    "from scipy import stats\n",
    "import pylab\n",
    "import seaborn as sb\n",
    "import statsmodels as sm\n",
    "from sklearn import preprocessing\n",
    "from sklearn.preprocessing import LabelEncoder\n",
    "\n",
    "###################################################\n",
    "\n",
    "# Load Dataset\n",
    "buyer_data = pd.read_csv(\"C:\\\\Users\\\\320101002\\\\Documents\\\\Data_Science\\\\3_Hypothesis Testing\\\\Download_3\\\\BuyerRatio.csv\")\n",
    "buyer_data.shape # To see number of records and columns, 300 observations and 4 countries\n",
    "\n",
    "buyer_data\n",
    "\n",
    "buyer_data.columns\n",
    "# 2 Rows named as Males and Females\n",
    "# 5 Rows,  From 2 to 5 arfe directions East, West, North and South\n",
    "\n",
    "###################################################\n",
    "\n",
    "# Business Problem\n",
    "\n",
    "# To evaluate if any of the four regions have statistically different Male/Female buyer Ratio. \n",
    "\n",
    "# Ho = Null Hypothesis:  There is NO difference in the Male Female ratio\n",
    "# Ha = At least one region has different buyer ratio\n",
    "\n",
    "###################################################\n",
    "\n",
    "# We have Attribute data of 4 proportions top test, hence Chi Square is required.\n",
    "\n",
    "from scipy.stats import chisquare\n",
    "\n",
    "\n",
    "buyer_data_n = buyer_data.drop('Observed Values', axis=1)\n",
    "\n",
    "from scipy import stats\n",
    "stats.chi2_contingency(buyer_data_n)\n",
    "\n",
    "chisquares_results=scipy.stats.chi2_contingency(buyer_data_n)\n",
    "chi_pValue=chisquares_results[1]\n",
    "chi_square = chisquares_results[0]\n",
    "\n",
    "print(\"Chi Square Value is: \"+str(chi_square))\n",
    "print(\"p-value is: \"+str(chi_pValue))\n",
    "\n",
    "# Chi Square = 1.5959\n",
    "# P Value = 0.66 > 0.05\n",
    "# P high Null Fly, That means There is no difference in the Ratio of Male to Female in four different regions\n",
    "\n",
    "# Let us analysis Chi square value\n",
    "# Degrees of Freedom for the set = \n",
    "\n",
    "# 4 Regions and 2 genders\n",
    "# Degress of Freedom = (4-1) * (2-1)\n",
    "dof = (4-1) * (2-1)\n",
    "dof\n",
    "\n",
    "\n",
    "# Probability with results = 0.66 > 0.05 \n",
    "\n",
    "###############################################################################\n",
    "\n",
    "# Conclusion:\n",
    "# P Value = 0.66 > 0.05\n",
    "# P high Null Fly, That means There is no difference in the Ratio of Male to Female in four different regions\n",
    "\n",
    "# From the Chi square table for 3 dof and 0.95 confidence the value comes to be 0.352\n",
    "# Our data has ChiSquare Value of 1.5959 > 0.352 hence it doesn't lie in rejection region, \n",
    "# Data does not have different buyer ratio of Male and Females\n",
    "\n",
    "# Data does not have different buyer ratio of Male and Females\n",
    "\n",
    "###############################################################################\n"
   ]
  },
  {
   "cell_type": "code",
   "execution_count": null,
   "metadata": {},
   "outputs": [],
   "source": []
  }
 ],
 "metadata": {
  "kernelspec": {
   "display_name": "Python 3",
   "language": "python",
   "name": "python3"
  },
  "language_info": {
   "codemirror_mode": {
    "name": "ipython",
    "version": 3
   },
   "file_extension": ".py",
   "mimetype": "text/x-python",
   "name": "python",
   "nbconvert_exporter": "python",
   "pygments_lexer": "ipython3",
   "version": "3.7.6"
  }
 },
 "nbformat": 4,
 "nbformat_minor": 4
}
